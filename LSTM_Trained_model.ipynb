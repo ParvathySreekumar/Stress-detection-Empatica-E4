{
  "nbformat": 4,
  "nbformat_minor": 0,
  "metadata": {
    "colab": {
      "provenance": []
    },
    "kernelspec": {
      "name": "python3",
      "display_name": "Python 3"
    },
    "language_info": {
      "name": "python"
    }
  },
  "cells": [
    {
      "cell_type": "code",
      "execution_count": null,
      "metadata": {
        "colab": {
          "base_uri": "https://localhost:8080/"
        },
        "id": "iCwvIOJF0xh8",
        "outputId": "f104d2db-69b1-4eff-d72a-0d8167c5bcc5"
      },
      "outputs": [
        {
          "output_type": "stream",
          "name": "stdout",
          "text": [
            "Requirement already satisfied: tensorflow in /usr/local/lib/python3.10/dist-packages (2.15.0)\n",
            "Requirement already satisfied: absl-py>=1.0.0 in /usr/local/lib/python3.10/dist-packages (from tensorflow) (1.4.0)\n",
            "Requirement already satisfied: astunparse>=1.6.0 in /usr/local/lib/python3.10/dist-packages (from tensorflow) (1.6.3)\n",
            "Requirement already satisfied: flatbuffers>=23.5.26 in /usr/local/lib/python3.10/dist-packages (from tensorflow) (23.5.26)\n",
            "Requirement already satisfied: gast!=0.5.0,!=0.5.1,!=0.5.2,>=0.2.1 in /usr/local/lib/python3.10/dist-packages (from tensorflow) (0.5.4)\n",
            "Requirement already satisfied: google-pasta>=0.1.1 in /usr/local/lib/python3.10/dist-packages (from tensorflow) (0.2.0)\n",
            "Requirement already satisfied: h5py>=2.9.0 in /usr/local/lib/python3.10/dist-packages (from tensorflow) (3.9.0)\n",
            "Requirement already satisfied: libclang>=13.0.0 in /usr/local/lib/python3.10/dist-packages (from tensorflow) (16.0.6)\n",
            "Requirement already satisfied: ml-dtypes~=0.2.0 in /usr/local/lib/python3.10/dist-packages (from tensorflow) (0.2.0)\n",
            "Requirement already satisfied: numpy<2.0.0,>=1.23.5 in /usr/local/lib/python3.10/dist-packages (from tensorflow) (1.23.5)\n",
            "Requirement already satisfied: opt-einsum>=2.3.2 in /usr/local/lib/python3.10/dist-packages (from tensorflow) (3.3.0)\n",
            "Requirement already satisfied: packaging in /usr/local/lib/python3.10/dist-packages (from tensorflow) (23.2)\n",
            "Requirement already satisfied: protobuf!=4.21.0,!=4.21.1,!=4.21.2,!=4.21.3,!=4.21.4,!=4.21.5,<5.0.0dev,>=3.20.3 in /usr/local/lib/python3.10/dist-packages (from tensorflow) (3.20.3)\n",
            "Requirement already satisfied: setuptools in /usr/local/lib/python3.10/dist-packages (from tensorflow) (67.7.2)\n",
            "Requirement already satisfied: six>=1.12.0 in /usr/local/lib/python3.10/dist-packages (from tensorflow) (1.16.0)\n",
            "Requirement already satisfied: termcolor>=1.1.0 in /usr/local/lib/python3.10/dist-packages (from tensorflow) (2.4.0)\n",
            "Requirement already satisfied: typing-extensions>=3.6.6 in /usr/local/lib/python3.10/dist-packages (from tensorflow) (4.5.0)\n",
            "Requirement already satisfied: wrapt<1.15,>=1.11.0 in /usr/local/lib/python3.10/dist-packages (from tensorflow) (1.14.1)\n",
            "Requirement already satisfied: tensorflow-io-gcs-filesystem>=0.23.1 in /usr/local/lib/python3.10/dist-packages (from tensorflow) (0.34.0)\n",
            "Requirement already satisfied: grpcio<2.0,>=1.24.3 in /usr/local/lib/python3.10/dist-packages (from tensorflow) (1.60.0)\n",
            "Requirement already satisfied: tensorboard<2.16,>=2.15 in /usr/local/lib/python3.10/dist-packages (from tensorflow) (2.15.1)\n",
            "Requirement already satisfied: tensorflow-estimator<2.16,>=2.15.0 in /usr/local/lib/python3.10/dist-packages (from tensorflow) (2.15.0)\n",
            "Requirement already satisfied: keras<2.16,>=2.15.0 in /usr/local/lib/python3.10/dist-packages (from tensorflow) (2.15.0)\n",
            "Requirement already satisfied: wheel<1.0,>=0.23.0 in /usr/local/lib/python3.10/dist-packages (from astunparse>=1.6.0->tensorflow) (0.42.0)\n",
            "Requirement already satisfied: google-auth<3,>=1.6.3 in /usr/local/lib/python3.10/dist-packages (from tensorboard<2.16,>=2.15->tensorflow) (2.17.3)\n",
            "Requirement already satisfied: google-auth-oauthlib<2,>=0.5 in /usr/local/lib/python3.10/dist-packages (from tensorboard<2.16,>=2.15->tensorflow) (1.2.0)\n",
            "Requirement already satisfied: markdown>=2.6.8 in /usr/local/lib/python3.10/dist-packages (from tensorboard<2.16,>=2.15->tensorflow) (3.5.1)\n",
            "Requirement already satisfied: requests<3,>=2.21.0 in /usr/local/lib/python3.10/dist-packages (from tensorboard<2.16,>=2.15->tensorflow) (2.31.0)\n",
            "Requirement already satisfied: tensorboard-data-server<0.8.0,>=0.7.0 in /usr/local/lib/python3.10/dist-packages (from tensorboard<2.16,>=2.15->tensorflow) (0.7.2)\n",
            "Requirement already satisfied: werkzeug>=1.0.1 in /usr/local/lib/python3.10/dist-packages (from tensorboard<2.16,>=2.15->tensorflow) (3.0.1)\n",
            "Requirement already satisfied: cachetools<6.0,>=2.0.0 in /usr/local/lib/python3.10/dist-packages (from google-auth<3,>=1.6.3->tensorboard<2.16,>=2.15->tensorflow) (5.3.2)\n",
            "Requirement already satisfied: pyasn1-modules>=0.2.1 in /usr/local/lib/python3.10/dist-packages (from google-auth<3,>=1.6.3->tensorboard<2.16,>=2.15->tensorflow) (0.3.0)\n",
            "Requirement already satisfied: rsa<5,>=3.1.4 in /usr/local/lib/python3.10/dist-packages (from google-auth<3,>=1.6.3->tensorboard<2.16,>=2.15->tensorflow) (4.9)\n",
            "Requirement already satisfied: requests-oauthlib>=0.7.0 in /usr/local/lib/python3.10/dist-packages (from google-auth-oauthlib<2,>=0.5->tensorboard<2.16,>=2.15->tensorflow) (1.3.1)\n",
            "Requirement already satisfied: charset-normalizer<4,>=2 in /usr/local/lib/python3.10/dist-packages (from requests<3,>=2.21.0->tensorboard<2.16,>=2.15->tensorflow) (3.3.2)\n",
            "Requirement already satisfied: idna<4,>=2.5 in /usr/local/lib/python3.10/dist-packages (from requests<3,>=2.21.0->tensorboard<2.16,>=2.15->tensorflow) (3.6)\n",
            "Requirement already satisfied: urllib3<3,>=1.21.1 in /usr/local/lib/python3.10/dist-packages (from requests<3,>=2.21.0->tensorboard<2.16,>=2.15->tensorflow) (2.0.7)\n",
            "Requirement already satisfied: certifi>=2017.4.17 in /usr/local/lib/python3.10/dist-packages (from requests<3,>=2.21.0->tensorboard<2.16,>=2.15->tensorflow) (2023.11.17)\n",
            "Requirement already satisfied: MarkupSafe>=2.1.1 in /usr/local/lib/python3.10/dist-packages (from werkzeug>=1.0.1->tensorboard<2.16,>=2.15->tensorflow) (2.1.3)\n",
            "Requirement already satisfied: pyasn1<0.6.0,>=0.4.6 in /usr/local/lib/python3.10/dist-packages (from pyasn1-modules>=0.2.1->google-auth<3,>=1.6.3->tensorboard<2.16,>=2.15->tensorflow) (0.5.1)\n",
            "Requirement already satisfied: oauthlib>=3.0.0 in /usr/local/lib/python3.10/dist-packages (from requests-oauthlib>=0.7.0->google-auth-oauthlib<2,>=0.5->tensorboard<2.16,>=2.15->tensorflow) (3.2.2)\n"
          ]
        }
      ],
      "source": [
        "!pip install tensorflow\n"
      ]
    },
    {
      "cell_type": "code",
      "source": [
        "import pandas as pd\n",
        "data = pd.read_csv('/content/enhanced_combined_final.csv')\n"
      ],
      "metadata": {
        "id": "iiruexP11BMe"
      },
      "execution_count": null,
      "outputs": []
    },
    {
      "cell_type": "code",
      "source": [
        "# Assuming the dataset has the following columns: 'EDA', 'HR', 'Temp', and 'Stress_Level'\n",
        "# Split the data into features and labels\n",
        "X = data.drop('Stress_Level', axis=1)\n",
        "y = data['Stress_Level']\n",
        "\n",
        "# Normalize/Standardize the features (you can use MinMaxScaler or StandardScaler from sklearn.preprocessing)\n",
        "from sklearn.preprocessing import StandardScaler\n",
        "\n",
        "scaler = StandardScaler()\n",
        "X_scaled = scaler.fit_transform(X)\n"
      ],
      "metadata": {
        "id": "P_plm0uI14m9"
      },
      "execution_count": null,
      "outputs": []
    },
    {
      "cell_type": "code",
      "source": [
        "from sklearn.model_selection import train_test_split\n",
        "\n",
        "# Split the data into training and testing sets\n",
        "X_train, X_temp, y_train, y_temp = train_test_split(X_scaled, y, test_size=0.3, random_state=42)\n",
        "\n",
        "# Split the temp set into validation and testing sets\n",
        "X_val, X_test, y_val, y_test = train_test_split(X_temp, y_temp, test_size=0.5, random_state=42)\n"
      ],
      "metadata": {
        "id": "toxpzKgc18lx"
      },
      "execution_count": null,
      "outputs": []
    },
    {
      "cell_type": "code",
      "source": [
        "# Reshape input data to [samples, timesteps, features]\n",
        "X_train_reshaped = X_train.reshape((X_train.shape[0], 1, X_train.shape[1]))\n",
        "X_val_reshaped = X_val.reshape((X_val.shape[0], 1, X_val.shape[1]))\n",
        "X_test_reshaped = X_test.reshape((X_test.shape[0], 1, X_test.shape[1]))\n",
        "\n",
        "# One-hot encode labels\n",
        "from tensorflow.keras.utils import to_categorical\n",
        "\n",
        "y_train_categorical = to_categorical(y_train)\n",
        "y_val_categorical = to_categorical(y_val)\n",
        "y_test_categorical = to_categorical(y_test)\n"
      ],
      "metadata": {
        "id": "uj3xFZxy1-6w"
      },
      "execution_count": null,
      "outputs": []
    },
    {
      "cell_type": "code",
      "source": [
        "from tensorflow.keras.models import Sequential\n",
        "from tensorflow.keras.layers import LSTM, Dense, Dropout\n",
        "\n",
        "# Define the LSTM model\n",
        "model = Sequential()\n",
        "model.add(LSTM(units=50, return_sequences=False, input_shape=(1, X_train.shape[1])))\n",
        "model.add(Dropout(0.5))\n",
        "model.add(Dense(3, activation='softmax'))  # Assuming 3 classes for stress levels\n",
        "\n",
        "# Compile the model\n",
        "model.compile(optimizer='adam', loss='categorical_crossentropy', metrics=['accuracy'])\n"
      ],
      "metadata": {
        "id": "rt34B3o-2Brj"
      },
      "execution_count": null,
      "outputs": []
    },
    {
      "cell_type": "code",
      "source": [
        "# Train the model\n",
        "history = model.fit(\n",
        "    X_train_reshaped,\n",
        "    y_train_categorical,\n",
        "    epochs=50,  # Adjust the number of epochs based on the training performance\n",
        "    batch_size=64,  # You can adjust the batch size\n",
        "    validation_data=(X_val_reshaped, y_val_categorical),\n",
        "    verbose=1\n",
        ")\n"
      ],
      "metadata": {
        "colab": {
          "base_uri": "https://localhost:8080/"
        },
        "id": "gn7KrIic2EJc",
        "outputId": "cbe35381-8c13-4456-8734-7573e80d923a"
      },
      "execution_count": null,
      "outputs": [
        {
          "output_type": "stream",
          "name": "stdout",
          "text": [
            "Epoch 1/50\n",
            "187/187 [==============================] - 3s 7ms/step - loss: 0.5597 - accuracy: 0.8438 - val_loss: 0.2580 - val_accuracy: 0.9233\n",
            "Epoch 2/50\n",
            "187/187 [==============================] - 1s 4ms/step - loss: 0.2060 - accuracy: 0.9371 - val_loss: 0.1438 - val_accuracy: 0.9452\n",
            "Epoch 3/50\n",
            "187/187 [==============================] - 1s 3ms/step - loss: 0.1283 - accuracy: 0.9551 - val_loss: 0.0973 - val_accuracy: 0.9605\n",
            "Epoch 4/50\n",
            "187/187 [==============================] - 1s 4ms/step - loss: 0.0911 - accuracy: 0.9701 - val_loss: 0.0699 - val_accuracy: 0.9761\n",
            "Epoch 5/50\n",
            "187/187 [==============================] - 1s 3ms/step - loss: 0.0654 - accuracy: 0.9830 - val_loss: 0.0494 - val_accuracy: 0.9828\n",
            "Epoch 6/50\n",
            "187/187 [==============================] - 1s 4ms/step - loss: 0.0503 - accuracy: 0.9873 - val_loss: 0.0370 - val_accuracy: 0.9879\n",
            "Epoch 7/50\n",
            "187/187 [==============================] - 1s 4ms/step - loss: 0.0385 - accuracy: 0.9905 - val_loss: 0.0291 - val_accuracy: 0.9894\n",
            "Epoch 8/50\n",
            "187/187 [==============================] - 1s 3ms/step - loss: 0.0318 - accuracy: 0.9926 - val_loss: 0.0233 - val_accuracy: 0.9922\n",
            "Epoch 9/50\n",
            "187/187 [==============================] - 1s 3ms/step - loss: 0.0259 - accuracy: 0.9938 - val_loss: 0.0190 - val_accuracy: 0.9949\n",
            "Epoch 10/50\n",
            "187/187 [==============================] - 1s 4ms/step - loss: 0.0231 - accuracy: 0.9946 - val_loss: 0.0153 - val_accuracy: 0.9949\n",
            "Epoch 11/50\n",
            "187/187 [==============================] - 1s 5ms/step - loss: 0.0197 - accuracy: 0.9956 - val_loss: 0.0124 - val_accuracy: 0.9961\n",
            "Epoch 12/50\n",
            "187/187 [==============================] - 1s 5ms/step - loss: 0.0162 - accuracy: 0.9962 - val_loss: 0.0105 - val_accuracy: 0.9969\n",
            "Epoch 13/50\n",
            "187/187 [==============================] - 1s 6ms/step - loss: 0.0138 - accuracy: 0.9977 - val_loss: 0.0090 - val_accuracy: 0.9977\n",
            "Epoch 14/50\n",
            "187/187 [==============================] - 1s 5ms/step - loss: 0.0130 - accuracy: 0.9977 - val_loss: 0.0072 - val_accuracy: 0.9996\n",
            "Epoch 15/50\n",
            "187/187 [==============================] - 1s 4ms/step - loss: 0.0106 - accuracy: 0.9982 - val_loss: 0.0061 - val_accuracy: 0.9996\n",
            "Epoch 16/50\n",
            "187/187 [==============================] - 1s 4ms/step - loss: 0.0095 - accuracy: 0.9986 - val_loss: 0.0053 - val_accuracy: 0.9992\n",
            "Epoch 17/50\n",
            "187/187 [==============================] - 1s 4ms/step - loss: 0.0088 - accuracy: 0.9983 - val_loss: 0.0044 - val_accuracy: 0.9996\n",
            "Epoch 18/50\n",
            "187/187 [==============================] - 1s 4ms/step - loss: 0.0078 - accuracy: 0.9984 - val_loss: 0.0040 - val_accuracy: 0.9996\n",
            "Epoch 19/50\n",
            "187/187 [==============================] - 1s 4ms/step - loss: 0.0072 - accuracy: 0.9983 - val_loss: 0.0033 - val_accuracy: 0.9996\n",
            "Epoch 20/50\n",
            "187/187 [==============================] - 1s 3ms/step - loss: 0.0068 - accuracy: 0.9988 - val_loss: 0.0027 - val_accuracy: 0.9996\n",
            "Epoch 21/50\n",
            "187/187 [==============================] - 1s 4ms/step - loss: 0.0058 - accuracy: 0.9993 - val_loss: 0.0025 - val_accuracy: 0.9996\n",
            "Epoch 22/50\n",
            "187/187 [==============================] - 1s 3ms/step - loss: 0.0054 - accuracy: 0.9991 - val_loss: 0.0023 - val_accuracy: 1.0000\n",
            "Epoch 23/50\n",
            "187/187 [==============================] - 1s 4ms/step - loss: 0.0052 - accuracy: 0.9991 - val_loss: 0.0020 - val_accuracy: 1.0000\n",
            "Epoch 24/50\n",
            "187/187 [==============================] - 1s 4ms/step - loss: 0.0049 - accuracy: 0.9994 - val_loss: 0.0020 - val_accuracy: 1.0000\n",
            "Epoch 25/50\n",
            "187/187 [==============================] - 1s 4ms/step - loss: 0.0043 - accuracy: 0.9994 - val_loss: 0.0017 - val_accuracy: 1.0000\n",
            "Epoch 26/50\n",
            "187/187 [==============================] - 1s 3ms/step - loss: 0.0041 - accuracy: 0.9990 - val_loss: 0.0016 - val_accuracy: 1.0000\n",
            "Epoch 27/50\n",
            "187/187 [==============================] - 1s 3ms/step - loss: 0.0036 - accuracy: 0.9993 - val_loss: 0.0014 - val_accuracy: 1.0000\n",
            "Epoch 28/50\n",
            "187/187 [==============================] - 1s 4ms/step - loss: 0.0027 - accuracy: 0.9997 - val_loss: 0.0012 - val_accuracy: 1.0000\n",
            "Epoch 29/50\n",
            "187/187 [==============================] - 1s 5ms/step - loss: 0.0028 - accuracy: 0.9995 - val_loss: 0.0011 - val_accuracy: 1.0000\n",
            "Epoch 30/50\n",
            "187/187 [==============================] - 1s 5ms/step - loss: 0.0030 - accuracy: 0.9993 - val_loss: 0.0013 - val_accuracy: 1.0000\n",
            "Epoch 31/50\n",
            "187/187 [==============================] - 1s 5ms/step - loss: 0.0027 - accuracy: 0.9994 - val_loss: 9.3587e-04 - val_accuracy: 1.0000\n",
            "Epoch 32/50\n",
            "187/187 [==============================] - 1s 4ms/step - loss: 0.0029 - accuracy: 0.9990 - val_loss: 0.0011 - val_accuracy: 1.0000\n",
            "Epoch 33/50\n",
            "187/187 [==============================] - 1s 4ms/step - loss: 0.0024 - accuracy: 0.9995 - val_loss: 0.0011 - val_accuracy: 1.0000\n",
            "Epoch 34/50\n",
            "187/187 [==============================] - 1s 4ms/step - loss: 0.0026 - accuracy: 0.9993 - val_loss: 8.9110e-04 - val_accuracy: 1.0000\n",
            "Epoch 35/50\n",
            "187/187 [==============================] - 1s 4ms/step - loss: 0.0024 - accuracy: 0.9995 - val_loss: 9.0845e-04 - val_accuracy: 1.0000\n",
            "Epoch 36/50\n",
            "187/187 [==============================] - 1s 5ms/step - loss: 0.0027 - accuracy: 0.9992 - val_loss: 6.7003e-04 - val_accuracy: 1.0000\n",
            "Epoch 37/50\n",
            "187/187 [==============================] - 1s 5ms/step - loss: 0.0023 - accuracy: 0.9994 - val_loss: 7.5001e-04 - val_accuracy: 1.0000\n",
            "Epoch 38/50\n",
            "187/187 [==============================] - 1s 4ms/step - loss: 0.0022 - accuracy: 0.9993 - val_loss: 0.0011 - val_accuracy: 1.0000\n",
            "Epoch 39/50\n",
            "187/187 [==============================] - 1s 4ms/step - loss: 0.0021 - accuracy: 0.9993 - val_loss: 5.9394e-04 - val_accuracy: 1.0000\n",
            "Epoch 40/50\n",
            "187/187 [==============================] - 1s 5ms/step - loss: 0.0021 - accuracy: 0.9995 - val_loss: 5.3620e-04 - val_accuracy: 1.0000\n",
            "Epoch 41/50\n",
            "187/187 [==============================] - 1s 5ms/step - loss: 0.0020 - accuracy: 0.9996 - val_loss: 6.1783e-04 - val_accuracy: 1.0000\n",
            "Epoch 42/50\n",
            "187/187 [==============================] - 1s 4ms/step - loss: 0.0024 - accuracy: 0.9993 - val_loss: 5.1139e-04 - val_accuracy: 1.0000\n",
            "Epoch 43/50\n",
            "187/187 [==============================] - 1s 4ms/step - loss: 0.0023 - accuracy: 0.9993 - val_loss: 7.2140e-04 - val_accuracy: 1.0000\n",
            "Epoch 44/50\n",
            "187/187 [==============================] - 1s 4ms/step - loss: 0.0018 - accuracy: 0.9996 - val_loss: 0.0012 - val_accuracy: 1.0000\n",
            "Epoch 45/50\n",
            "187/187 [==============================] - 1s 6ms/step - loss: 0.0020 - accuracy: 0.9993 - val_loss: 8.8293e-04 - val_accuracy: 1.0000\n",
            "Epoch 46/50\n",
            "187/187 [==============================] - 1s 6ms/step - loss: 0.0018 - accuracy: 0.9997 - val_loss: 5.3734e-04 - val_accuracy: 1.0000\n",
            "Epoch 47/50\n",
            "187/187 [==============================] - 1s 6ms/step - loss: 0.0018 - accuracy: 0.9996 - val_loss: 4.5449e-04 - val_accuracy: 1.0000\n",
            "Epoch 48/50\n",
            "187/187 [==============================] - 1s 5ms/step - loss: 0.0015 - accuracy: 0.9996 - val_loss: 4.4348e-04 - val_accuracy: 1.0000\n",
            "Epoch 49/50\n",
            "187/187 [==============================] - 1s 4ms/step - loss: 0.0020 - accuracy: 0.9992 - val_loss: 4.7652e-04 - val_accuracy: 1.0000\n",
            "Epoch 50/50\n",
            "187/187 [==============================] - 1s 4ms/step - loss: 0.0015 - accuracy: 0.9995 - val_loss: 5.6147e-04 - val_accuracy: 1.0000\n"
          ]
        }
      ]
    },
    {
      "cell_type": "code",
      "source": [
        "# Evaluate the model on the test set\n",
        "evaluation = model.evaluate(X_test_reshaped, y_test_categorical, verbose=1)\n",
        "print(f'Test Loss: {evaluation[0]}, Test Accuracy: {evaluation[1]}')\n"
      ],
      "metadata": {
        "colab": {
          "base_uri": "https://localhost:8080/"
        },
        "id": "o_qpENXY2T2R",
        "outputId": "923b803d-f722-4bb4-e38b-111ca094fdea"
      },
      "execution_count": null,
      "outputs": [
        {
          "output_type": "stream",
          "name": "stdout",
          "text": [
            "80/80 [==============================] - 0s 2ms/step - loss: 3.5001e-04 - accuracy: 1.0000\n",
            "Test Loss: 0.00035001375363208354, Test Accuracy: 1.0\n"
          ]
        }
      ]
    },
    {
      "cell_type": "code",
      "source": [
        "# Save the model\n",
        "model.save('my_stress_model.h5')\n",
        "\n",
        "# Download the model file\n",
        "from google.colab import files\n",
        "files.download('my_stress_model.h5')\n"
      ],
      "metadata": {
        "colab": {
          "base_uri": "https://localhost:8080/",
          "height": 73
        },
        "id": "57JOI8fw2hpO",
        "outputId": "05f25cf2-9e56-45d5-c0e8-429c000959fa"
      },
      "execution_count": null,
      "outputs": [
        {
          "output_type": "stream",
          "name": "stderr",
          "text": [
            "/usr/local/lib/python3.10/dist-packages/keras/src/engine/training.py:3103: UserWarning: You are saving your model as an HDF5 file via `model.save()`. This file format is considered legacy. We recommend using instead the native Keras format, e.g. `model.save('my_model.keras')`.\n",
            "  saving_api.save_model(\n"
          ]
        },
        {
          "output_type": "display_data",
          "data": {
            "text/plain": [
              "<IPython.core.display.Javascript object>"
            ],
            "application/javascript": [
              "\n",
              "    async function download(id, filename, size) {\n",
              "      if (!google.colab.kernel.accessAllowed) {\n",
              "        return;\n",
              "      }\n",
              "      const div = document.createElement('div');\n",
              "      const label = document.createElement('label');\n",
              "      label.textContent = `Downloading \"${filename}\": `;\n",
              "      div.appendChild(label);\n",
              "      const progress = document.createElement('progress');\n",
              "      progress.max = size;\n",
              "      div.appendChild(progress);\n",
              "      document.body.appendChild(div);\n",
              "\n",
              "      const buffers = [];\n",
              "      let downloaded = 0;\n",
              "\n",
              "      const channel = await google.colab.kernel.comms.open(id);\n",
              "      // Send a message to notify the kernel that we're ready.\n",
              "      channel.send({})\n",
              "\n",
              "      for await (const message of channel.messages) {\n",
              "        // Send a message to notify the kernel that we're ready.\n",
              "        channel.send({})\n",
              "        if (message.buffers) {\n",
              "          for (const buffer of message.buffers) {\n",
              "            buffers.push(buffer);\n",
              "            downloaded += buffer.byteLength;\n",
              "            progress.value = downloaded;\n",
              "          }\n",
              "        }\n",
              "      }\n",
              "      const blob = new Blob(buffers, {type: 'application/binary'});\n",
              "      const a = document.createElement('a');\n",
              "      a.href = window.URL.createObjectURL(blob);\n",
              "      a.download = filename;\n",
              "      div.appendChild(a);\n",
              "      a.click();\n",
              "      div.remove();\n",
              "    }\n",
              "  "
            ]
          },
          "metadata": {}
        },
        {
          "output_type": "display_data",
          "data": {
            "text/plain": [
              "<IPython.core.display.Javascript object>"
            ],
            "application/javascript": [
              "download(\"download_49b17ef8-4e22-4da3-bf69-9c54c59c059b\", \"my_stress_model.h5\", 191256)"
            ]
          },
          "metadata": {}
        }
      ]
    }
  ]
}