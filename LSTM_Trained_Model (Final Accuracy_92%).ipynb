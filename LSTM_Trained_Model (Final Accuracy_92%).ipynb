{
  "nbformat": 4,
  "nbformat_minor": 0,
  "metadata": {
    "colab": {
      "provenance": []
    },
    "kernelspec": {
      "name": "python3",
      "display_name": "Python 3"
    },
    "language_info": {
      "name": "python"
    }
  },
  "cells": [
    {
      "cell_type": "code",
      "execution_count": null,
      "metadata": {
        "id": "VTriU4Z5ZePb"
      },
      "outputs": [],
      "source": [
        "import pandas as pd\n",
        "data = pd.read_csv('/content/enhanced_combined_final3.csv')"
      ]
    },
    {
      "cell_type": "code",
      "source": [
        "# Assuming the dataset has the following columns: 'EDA', 'HR', 'Temp', and 'Stress_Level'\n",
        "# Split the data into features and labels\n",
        "X = data.drop('Stress_Level', axis=1)\n",
        "y = data['Stress_Level']\n",
        "\n",
        "# Normalize/Standardize the features (you can use MinMaxScaler or StandardScaler from sklearn.preprocessing)\n",
        "from sklearn.preprocessing import StandardScaler\n",
        "\n",
        "scaler = StandardScaler()\n",
        "X_scaled = scaler.fit_transform(X)\n"
      ],
      "metadata": {
        "id": "O4zRtVknZzGu"
      },
      "execution_count": null,
      "outputs": []
    },
    {
      "cell_type": "code",
      "source": [
        "from sklearn.model_selection import train_test_split\n",
        "\n",
        "# Split the data into training and testing sets\n",
        "X_train, X_temp, y_train, y_temp = train_test_split(X_scaled, y, test_size=0.1, random_state=42)\n",
        "\n",
        "# Split the temp set into validation and testing sets\n",
        "X_val, X_test, y_val, y_test = train_test_split(X_temp, y_temp, test_size=0.1, random_state=42)\n"
      ],
      "metadata": {
        "id": "vKKxXXKaZ1x8"
      },
      "execution_count": null,
      "outputs": []
    },
    {
      "cell_type": "code",
      "source": [
        "# Reshape input data to [samples, timesteps, features]\n",
        "X_train_reshaped = X_train.reshape((X_train.shape[0], 1, X_train.shape[1]))\n",
        "X_val_reshaped = X_val.reshape((X_val.shape[0], 1, X_val.shape[1]))\n",
        "X_test_reshaped = X_test.reshape((X_test.shape[0], 1, X_test.shape[1]))\n",
        "\n",
        "# One-hot encode labels\n",
        "from tensorflow.keras.utils import to_categorical\n",
        "\n",
        "y_train_categorical = to_categorical(y_train)\n",
        "y_val_categorical = to_categorical(y_val)\n",
        "y_test_categorical = to_categorical(y_test)\n"
      ],
      "metadata": {
        "id": "L_-_YD7nZ54K"
      },
      "execution_count": null,
      "outputs": []
    },
    {
      "cell_type": "code",
      "source": [
        "from tensorflow.keras.models import Sequential\n",
        "from tensorflow.keras.layers import LSTM, Dense, Dropout\n",
        "from tensorflow.keras.callbacks import ModelCheckpoint, EarlyStopping\n",
        "\n",
        "# Define the LSTM model\n",
        "model = Sequential()\n",
        "model.add(LSTM(units=50, return_sequences=False, input_shape=(1, X_train.shape[1])))\n",
        "model.add(Dropout(0.9))\n",
        "model.add(Dense(3, activation='softmax'))\n",
        "\n",
        "# Compile the model\n",
        "model.compile(optimizer='adam', loss='categorical_crossentropy', metrics=['accuracy'])\n",
        "\n",
        "# Define ModelCheckpoint to save the best model\n",
        "checkpoint = ModelCheckpoint('best_model.h5', monitor='val_loss', save_best_only=True, mode='min', verbose=1)\n",
        "\n",
        "# Define EarlyStopping to stop training if there's no improvement in the validation loss\n",
        "early_stopping = EarlyStopping(monitor='val_loss', patience=20, restore_best_weights=True, verbose=1)\n",
        "\n",
        "# Train the model with callbacks\n",
        "history = model.fit(\n",
        "    X_train_reshaped,\n",
        "    y_train_categorical,\n",
        "    epochs=20,\n",
        "    batch_size=64,\n",
        "    validation_data=(X_val_reshaped, y_val_categorical),\n",
        "    callbacks=[checkpoint, early_stopping],  # Use the callbacks parameter to include both callbacks\n",
        "    verbose=1\n",
        ")\n",
        "\n",
        "# Evaluate the model on the test set\n",
        "evaluation = model.evaluate(X_test_reshaped, y_test_categorical, verbose=1)\n",
        "print(f'Test Loss: {evaluation[0]}, Test Accuracy: {evaluation[1]}')\n"
      ],
      "metadata": {
        "colab": {
          "base_uri": "https://localhost:8080/"
        },
        "id": "lBWgXzkvZ7Dd",
        "outputId": "954ff43b-299e-4626-a1c5-d682c921d63e"
      },
      "execution_count": null,
      "outputs": [
        {
          "output_type": "stream",
          "name": "stdout",
          "text": [
            "Epoch 1/20\n",
            "284/291 [============================>.] - ETA: 0s - loss: 0.7369 - accuracy: 0.7007\n",
            "Epoch 1: val_loss improved from inf to 0.42287, saving model to best_model.h5\n",
            "291/291 [==============================] - 4s 5ms/step - loss: 0.7317 - accuracy: 0.7034 - val_loss: 0.4229 - val_accuracy: 0.8726\n",
            "Epoch 2/20\n",
            " 55/291 [====>.........................] - ETA: 0s - loss: 0.5113 - accuracy: 0.8009"
          ]
        },
        {
          "output_type": "stream",
          "name": "stderr",
          "text": [
            "/usr/local/lib/python3.10/dist-packages/keras/src/engine/training.py:3103: UserWarning: You are saving your model as an HDF5 file via `model.save()`. This file format is considered legacy. We recommend using instead the native Keras format, e.g. `model.save('my_model.keras')`.\n",
            "  saving_api.save_model(\n"
          ]
        },
        {
          "output_type": "stream",
          "name": "stdout",
          "text": [
            "291/291 [==============================] - ETA: 0s - loss: 0.4455 - accuracy: 0.8177\n",
            "Epoch 2: val_loss improved from 0.42287 to 0.27438, saving model to best_model.h5\n",
            "291/291 [==============================] - 1s 3ms/step - loss: 0.4455 - accuracy: 0.8177 - val_loss: 0.2744 - val_accuracy: 0.8759\n",
            "Epoch 3/20\n",
            "291/291 [==============================] - ETA: 0s - loss: 0.3601 - accuracy: 0.8402\n",
            "Epoch 3: val_loss improved from 0.27438 to 0.22392, saving model to best_model.h5\n",
            "291/291 [==============================] - 1s 3ms/step - loss: 0.3601 - accuracy: 0.8402 - val_loss: 0.2239 - val_accuracy: 0.8866\n",
            "Epoch 4/20\n",
            "282/291 [============================>.] - ETA: 0s - loss: 0.3218 - accuracy: 0.8530\n",
            "Epoch 4: val_loss improved from 0.22392 to 0.19925, saving model to best_model.h5\n",
            "291/291 [==============================] - 1s 3ms/step - loss: 0.3211 - accuracy: 0.8534 - val_loss: 0.1992 - val_accuracy: 0.9124\n",
            "Epoch 5/20\n",
            "274/291 [===========================>..] - ETA: 0s - loss: 0.2984 - accuracy: 0.8576\n",
            "Epoch 5: val_loss improved from 0.19925 to 0.18121, saving model to best_model.h5\n",
            "291/291 [==============================] - 1s 3ms/step - loss: 0.2975 - accuracy: 0.8588 - val_loss: 0.1812 - val_accuracy: 0.9264\n",
            "Epoch 6/20\n",
            "280/291 [===========================>..] - ETA: 0s - loss: 0.2843 - accuracy: 0.8642\n",
            "Epoch 6: val_loss improved from 0.18121 to 0.17402, saving model to best_model.h5\n",
            "291/291 [==============================] - 1s 3ms/step - loss: 0.2837 - accuracy: 0.8643 - val_loss: 0.1740 - val_accuracy: 0.9210\n",
            "Epoch 7/20\n",
            "287/291 [============================>.] - ETA: 0s - loss: 0.2655 - accuracy: 0.8739\n",
            "Epoch 7: val_loss improved from 0.17402 to 0.16335, saving model to best_model.h5\n",
            "291/291 [==============================] - 1s 4ms/step - loss: 0.2656 - accuracy: 0.8736 - val_loss: 0.1633 - val_accuracy: 0.9242\n",
            "Epoch 8/20\n",
            "284/291 [============================>.] - ETA: 0s - loss: 0.2621 - accuracy: 0.8707\n",
            "Epoch 8: val_loss improved from 0.16335 to 0.16021, saving model to best_model.h5\n",
            "291/291 [==============================] - 1s 4ms/step - loss: 0.2617 - accuracy: 0.8706 - val_loss: 0.1602 - val_accuracy: 0.9248\n",
            "Epoch 9/20\n",
            "283/291 [============================>.] - ETA: 0s - loss: 0.2551 - accuracy: 0.8756\n",
            "Epoch 9: val_loss improved from 0.16021 to 0.15366, saving model to best_model.h5\n",
            "291/291 [==============================] - 1s 5ms/step - loss: 0.2541 - accuracy: 0.8759 - val_loss: 0.1537 - val_accuracy: 0.9350\n",
            "Epoch 10/20\n",
            "285/291 [============================>.] - ETA: 0s - loss: 0.2446 - accuracy: 0.8800\n",
            "Epoch 10: val_loss improved from 0.15366 to 0.15055, saving model to best_model.h5\n",
            "291/291 [==============================] - 1s 3ms/step - loss: 0.2445 - accuracy: 0.8807 - val_loss: 0.1506 - val_accuracy: 0.9339\n",
            "Epoch 11/20\n",
            "276/291 [===========================>..] - ETA: 0s - loss: 0.2394 - accuracy: 0.8845\n",
            "Epoch 11: val_loss improved from 0.15055 to 0.14500, saving model to best_model.h5\n",
            "291/291 [==============================] - 1s 3ms/step - loss: 0.2388 - accuracy: 0.8850 - val_loss: 0.1450 - val_accuracy: 0.9387\n",
            "Epoch 12/20\n",
            "272/291 [===========================>..] - ETA: 0s - loss: 0.2359 - accuracy: 0.8860\n",
            "Epoch 12: val_loss improved from 0.14500 to 0.14051, saving model to best_model.h5\n",
            "291/291 [==============================] - 1s 3ms/step - loss: 0.2353 - accuracy: 0.8863 - val_loss: 0.1405 - val_accuracy: 0.9398\n",
            "Epoch 13/20\n",
            "286/291 [============================>.] - ETA: 0s - loss: 0.2304 - accuracy: 0.8882\n",
            "Epoch 13: val_loss improved from 0.14051 to 0.13793, saving model to best_model.h5\n",
            "291/291 [==============================] - 1s 3ms/step - loss: 0.2303 - accuracy: 0.8883 - val_loss: 0.1379 - val_accuracy: 0.9377\n",
            "Epoch 14/20\n",
            "289/291 [============================>.] - ETA: 0s - loss: 0.2277 - accuracy: 0.8887\n",
            "Epoch 14: val_loss improved from 0.13793 to 0.13511, saving model to best_model.h5\n",
            "291/291 [==============================] - 1s 3ms/step - loss: 0.2281 - accuracy: 0.8885 - val_loss: 0.1351 - val_accuracy: 0.9387\n",
            "Epoch 15/20\n",
            "285/291 [============================>.] - ETA: 0s - loss: 0.2255 - accuracy: 0.8899\n",
            "Epoch 15: val_loss improved from 0.13511 to 0.13371, saving model to best_model.h5\n",
            "291/291 [==============================] - 1s 3ms/step - loss: 0.2256 - accuracy: 0.8902 - val_loss: 0.1337 - val_accuracy: 0.9371\n",
            "Epoch 16/20\n",
            "289/291 [============================>.] - ETA: 0s - loss: 0.2209 - accuracy: 0.8953\n",
            "Epoch 16: val_loss improved from 0.13371 to 0.13092, saving model to best_model.h5\n",
            "291/291 [==============================] - 1s 3ms/step - loss: 0.2205 - accuracy: 0.8954 - val_loss: 0.1309 - val_accuracy: 0.9361\n",
            "Epoch 17/20\n",
            "279/291 [===========================>..] - ETA: 0s - loss: 0.2193 - accuracy: 0.8950\n",
            "Epoch 17: val_loss improved from 0.13092 to 0.12881, saving model to best_model.h5\n",
            "291/291 [==============================] - 1s 3ms/step - loss: 0.2193 - accuracy: 0.8951 - val_loss: 0.1288 - val_accuracy: 0.9339\n",
            "Epoch 18/20\n",
            "273/291 [===========================>..] - ETA: 0s - loss: 0.2201 - accuracy: 0.8906\n",
            "Epoch 18: val_loss did not improve from 0.12881\n",
            "291/291 [==============================] - 1s 3ms/step - loss: 0.2198 - accuracy: 0.8905 - val_loss: 0.1302 - val_accuracy: 0.9366\n",
            "Epoch 19/20\n",
            "283/291 [============================>.] - ETA: 0s - loss: 0.2139 - accuracy: 0.8940\n",
            "Epoch 19: val_loss improved from 0.12881 to 0.12427, saving model to best_model.h5\n",
            "291/291 [==============================] - 1s 3ms/step - loss: 0.2130 - accuracy: 0.8944 - val_loss: 0.1243 - val_accuracy: 0.9468\n",
            "Epoch 20/20\n",
            "285/291 [============================>.] - ETA: 0s - loss: 0.2137 - accuracy: 0.8959\n",
            "Epoch 20: val_loss improved from 0.12427 to 0.12315, saving model to best_model.h5\n",
            "291/291 [==============================] - 1s 4ms/step - loss: 0.2139 - accuracy: 0.8956 - val_loss: 0.1231 - val_accuracy: 0.9425\n",
            "7/7 [==============================] - 0s 3ms/step - loss: 0.1430 - accuracy: 0.9275\n",
            "Test Loss: 0.14296050369739532, Test Accuracy: 0.9275362491607666\n"
          ]
        }
      ]
    },
    {
      "cell_type": "code",
      "source": [
        "# Save the model\n",
        "model.save('my_stress_model.h5')\n",
        "\n",
        "# Download the model file\n",
        "from google.colab import files\n",
        "files.download('my_stress_model.h5')"
      ],
      "metadata": {
        "colab": {
          "base_uri": "https://localhost:8080/",
          "height": 17
        },
        "id": "up6P9iWIUmo2",
        "outputId": "d042fc90-5bc7-48eb-f144-e3c4926a7571"
      },
      "execution_count": null,
      "outputs": [
        {
          "output_type": "display_data",
          "data": {
            "text/plain": [
              "<IPython.core.display.Javascript object>"
            ],
            "application/javascript": [
              "\n",
              "    async function download(id, filename, size) {\n",
              "      if (!google.colab.kernel.accessAllowed) {\n",
              "        return;\n",
              "      }\n",
              "      const div = document.createElement('div');\n",
              "      const label = document.createElement('label');\n",
              "      label.textContent = `Downloading \"${filename}\": `;\n",
              "      div.appendChild(label);\n",
              "      const progress = document.createElement('progress');\n",
              "      progress.max = size;\n",
              "      div.appendChild(progress);\n",
              "      document.body.appendChild(div);\n",
              "\n",
              "      const buffers = [];\n",
              "      let downloaded = 0;\n",
              "\n",
              "      const channel = await google.colab.kernel.comms.open(id);\n",
              "      // Send a message to notify the kernel that we're ready.\n",
              "      channel.send({})\n",
              "\n",
              "      for await (const message of channel.messages) {\n",
              "        // Send a message to notify the kernel that we're ready.\n",
              "        channel.send({})\n",
              "        if (message.buffers) {\n",
              "          for (const buffer of message.buffers) {\n",
              "            buffers.push(buffer);\n",
              "            downloaded += buffer.byteLength;\n",
              "            progress.value = downloaded;\n",
              "          }\n",
              "        }\n",
              "      }\n",
              "      const blob = new Blob(buffers, {type: 'application/binary'});\n",
              "      const a = document.createElement('a');\n",
              "      a.href = window.URL.createObjectURL(blob);\n",
              "      a.download = filename;\n",
              "      div.appendChild(a);\n",
              "      a.click();\n",
              "      div.remove();\n",
              "    }\n",
              "  "
            ]
          },
          "metadata": {}
        },
        {
          "output_type": "display_data",
          "data": {
            "text/plain": [
              "<IPython.core.display.Javascript object>"
            ],
            "application/javascript": [
              "download(\"download_f62eb3b7-ca89-4888-9d33-716360ba18c9\", \"my_stress_model.h5\", 191256)"
            ]
          },
          "metadata": {}
        }
      ]
    }
  ]
}